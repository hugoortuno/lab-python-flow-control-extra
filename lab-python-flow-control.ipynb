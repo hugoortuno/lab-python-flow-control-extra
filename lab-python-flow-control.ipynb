{
 "cells": [
  {
   "cell_type": "markdown",
   "id": "d3bfc191-8885-42ee-b0a0-bbab867c6f9f",
   "metadata": {
    "tags": []
   },
   "source": [
    "# Lab | Flow Control"
   ]
  },
  {
   "cell_type": "markdown",
   "id": "303cceb0-f898-4c5f-99bd-c04e131e1ded",
   "metadata": {},
   "source": [
    "Objective: Practice how to use programming constructs like if/else statements and loops to control the flow of a program's execution."
   ]
  },
  {
   "cell_type": "markdown",
   "id": "42fd260a-9eb2-4c39-9989-f2c8c70552ec",
   "metadata": {},
   "source": [
    "## Challenge: The Haunted Mansion"
   ]
  },
  {
   "cell_type": "markdown",
   "id": "7086f8f7-ded2-48e5-b966-7ec44fb57ca5",
   "metadata": {},
   "source": [
    "You are a brave adventurer who has decided to explore the Haunted Mansion, a decrepit old building that is rumored to be haunted by ghosts and spirits. Your objective is to find the treasure that is hidden somewhere in the mansion.\n",
    "\n",
    "## Requirements\n",
    "\n",
    "- Your script should have at least two functions: \"run_mansion()\" and \"encounter_ghost()\".\n",
    "- Your script should use if-else statements, while loops, for loops, combined loops, or nested loops to control the flow of execution.\n",
    "- Your script should prompt the user for input to make decisions on which path to take or what actions to perform.\n",
    "- Your script should include random events and obstacles that can either help or hinder the adventurer in their quest.\n",
    "- Your script should have an objective of finding the treasure at the end of the mansion.\n",
    "\n",
    "## Instructions\n",
    "\n",
    "- Begin by creating a list of items that the adventurer can pick up along the way. These items will be used to help the adventurer overcome obstacles and defeat ghosts. Examples of items can be weapons, potions, keys, etc.\n",
    "\n",
    "- Complete the function called \"run_mansion()\" that serves as the main function for the game. Within \"run_mansion()\", prompt the user to choose a path to take at each intersection. Each path should have its unique challenges and obstacles that the adventurer must overcome.\n",
    "\n",
    "- Use loops to check if the adventurer has enough health points to continue the game. If their health points drop to zero, the game is over.\n",
    "\n",
    "- Complete the function called \"encounter_ghost()\" that will be used to handle ghost encounters. The function should use random events to determine the outcome of the encounter, and the adventurer should use their items to help them defeat the ghost.\n",
    "\n",
    "- Use loops to generate random events or items along the way. These events can either help or hinder the adventurer, and the outcome should be based on random chance.\n",
    "\n",
    "- At the end of the mansion, the adventurer will find the treasure, and the game will end.\n",
    "\n"
   ]
  },
  {
   "cell_type": "code",
   "execution_count": 1,
   "id": "f5a64b56",
   "metadata": {},
   "outputs": [
    {
     "name": "stdout",
     "output_type": "stream",
     "text": [
      "\n",
      "You are at a crossroad. Choose a path:\n",
      "1: Go left\n",
      "2: Go right\n",
      "3: Check inventory\n",
      "4: Exit mansion\n"
     ]
    }
   ],
   "source": [
    "# import random\n",
    "\n",
    "# Initialize the items that the adventurer can pick up\n",
    "items = ['sword', 'shield', 'potion', 'key']\n",
    "\n",
    "# Initialize the player's stats\n",
    "player = {\n",
    "    'health': 100,\n",
    "    'items': [],\n",
    "    'has_key': False\n",
    "}\n",
    "\n",
    "def encounter_ghost():\n",
    "    \"\"\"\n",
    "    Handle a ghost encounter. The outcome depends on random events and player items.\n",
    "    \"\"\"\n",
    "    ghost_strength = random.randint(1, 10)\n",
    "    print(f\"A ghost appears with a strength of {ghost_strength}!\")\n",
    "\n",
    "    # Check if the player has a sword\n",
    "    if 'sword' in player['items']:\n",
    "        print(\"You use your sword to fight the ghost!\")\n",
    "        if ghost_strength <= 5:\n",
    "            print(\"You defeat the ghost easily with your sword.\")\n",
    "            return True\n",
    "        else:\n",
    "            player['health'] -= ghost_strength\n",
    "            print(f\"The ghost was too strong! You lose {ghost_strength} health.\")\n",
    "            return False\n",
    "    else:\n",
    "        print(\"You have no weapon to fight the ghost!\")\n",
    "        player['health'] -= ghost_strength\n",
    "        print(f\"You lose {ghost_strength} health.\")\n",
    "        return False\n",
    "\n",
    "def run_mansion():\n",
    "    \"\"\"\n",
    "    Main function to run the haunted mansion adventure game.\n",
    "    \"\"\"\n",
    "    while player['health'] > 0:\n",
    "        print(\"\\nYou are at a crossroad. Choose a path:\")\n",
    "        print(\"1: Go left\")\n",
    "        print(\"2: Go right\")\n",
    "        print(\"3: Check inventory\")\n",
    "        print(\"4: Exit mansion\")\n",
    "\n",
    "        choice = input(\"Enter your choice (1-4): \").strip()\n",
    "\n",
    "        if choice == '1':\n",
    "            print(\"You go left and find a treasure chest!\")\n",
    "            item_found = random.choice(items)\n",
    "            player['items'].append(item_found)\n",
    "            print(f\"You find a {item_found}.\")\n",
    "            if item_found == 'key':\n",
    "                player['has_key'] = True\n",
    "                print(\"You found a key!\")\n",
    "        \n",
    "        elif choice == '2':\n",
    "            print(\"You go right and encounter a ghost.\")\n",
    "            if not encounter_ghost():\n",
    "                if player['health'] <= 0:\n",
    "                    print(\"You have been defeated by the ghost. Game over!\")\n",
    "                    return\n",
    "            else:\n",
    "                print(\"You survived the ghost encounter.\")\n",
    "        \n",
    "        elif choice == '3':\n",
    "            print(\"Your inventory contains:\", player['items'])\n",
    "            print(f\"Your health is {player['health']}.\")\n",
    "            print(f\"You {'have' if player['has_key'] else 'do not have'} the key.\")\n",
    "        \n",
    "        elif choice == '4':\n",
    "            print(\"You decide to exit the mansion.\")\n",
    "            if player['has_key']:\n",
    "                print(\"Congratulations! You escaped the mansion with the treasure!\")\n",
    "            else:\n",
    "                print(\"You left the mansion without the treasure. Better luck next time!\")\n",
    "            return\n",
    "        \n",
    "        else:\n",
    "            print(\"Invalid choice. Please select again.\")\n",
    "\n",
    "        # Check if the player has any health left\n",
    "        if player['health'] <= 0:\n",
    "            print(\"You have no health left. Game over!\")\n",
    "            return\n",
    "\n",
    "# Start the game\n",
    "run_mansion()\n"
   ]
  },
  {
   "cell_type": "markdown",
   "id": "8846d61d-cf9d-4ad4-bbb8-1ecb3bb22005",
   "metadata": {},
   "source": [
    "*Introduction to Functions*:\n",
    "\n",
    "    Functions are blocks of code that perform a specific task. They are used to break up complex code into smaller, more manageable parts, which can make your code easier to read and understand. Functions can also be reused multiple times throughout your code, which can save you a lot of time and effort.\n",
    "\n",
    "    Functions are defined using the def keyword, followed by the name of the function and a set of parentheses. Inside the parentheses, you can list any arguments that the function needs in order to perform its task. These arguments are optional, but they can be useful if you need to pass data into the function from outside.\n",
    "\n",
    "    Once you have defined a function, you can call it from anywhere in your code using its name and passing any necessary arguments. When the function is called, the code inside it is executed, and any values that it returns are passed back to the calling code.\n",
    "\n",
    "    In this exercise, we have defined a function called encounter_ghost that simulates a battle between the adventurer and a ghost, and run_mansion. Your task is to complete these functions by using flow control statements such as if, else, while, for loops, and nested loops. Remember to pay attention to the instructions and comments provided in the function to help guide you. Once you have completed the function encounter_ghost, you can call it from the main code to simulate the battle and test your implementation.\n",
    "\n",
    "    Good luck!"
   ]
  },
  {
   "cell_type": "code",
   "execution_count": 2,
   "id": "499552c8-9e30-46e1-a706-4ac5dc64670e",
   "metadata": {},
   "outputs": [
    {
     "name": "stdout",
     "output_type": "stream",
     "text": [
      "¡Te encuentras con un fantasma!\n",
      "Perdiste la batalla...\n",
      "Tu aventura termina aquí.\n"
     ]
    }
   ],
   "source": [
    "import random  \n",
    "\n",
    "def encounter_ghost():\n",
    "    \"\"\"\n",
    "    Esta función maneja el encuentro con un fantasma.\n",
    "    El resultado de la batalla se determina por un número aleatorio entre 1 y 10.\n",
    "    Si el número aleatorio es menor o igual a 5, el aventurero derrota al fantasma. \n",
    "    En este caso, imprime \"¡Derrotaste al fantasma!\" y retorna True.\n",
    "    Si el número aleatorio es mayor a 5, el aventurero pierde la batalla. \n",
    "    En este caso, imprime \"Perdiste la batalla...\" y retorna False.\n",
    "    \"\"\"\n",
    "    print(\"¡Te encuentras con un fantasma!\")\n",
    "    \n",
    "    # Generar un número aleatorio entre 1 y 10\n",
    "    ghost_strength = random.randint(1, 10)\n",
    "    \n",
    "    # Determinar el resultado de la batalla\n",
    "    if ghost_strength <= 5:\n",
    "        print(\"¡Derrotaste al fantasma!\")\n",
    "        return True\n",
    "    else:\n",
    "        print(\"Perdiste la batalla...\")\n",
    "        return False\n",
    "\n",
    "# Ejemplo de uso de encounter_ghost()\n",
    "battle_result = encounter_ghost()\n",
    "if battle_result:\n",
    "    print(\"Puedes continuar tu aventura.\")\n",
    "else:\n",
    "    print(\"Tu aventura termina aquí.\")\n",
    "\n"
   ]
  },
  {
   "cell_type": "code",
   "execution_count": 4,
   "id": "d3e4076b-48cc-41ac-95ad-891743e775f5",
   "metadata": {},
   "outputs": [
    {
     "name": "stdout",
     "output_type": "stream",
     "text": [
      "¡Bienvenido a la Mansión Embrujada!\n"
     ]
    }
   ],
   "source": [
    "# main function for the game\n",
    "def run_mansion():\n",
    "    \n",
    "    print(\"Welcome to the Haunted Mansion!\")\n",
    "    \n",
    "    \"\"\"\n",
    "    Simulates an adventure through a haunted mansion. The adventurer starts with 10 health points and no items.\n",
    "    Prompt the user to choose between two paths: \"left\" or \"right\". \n",
    "\n",
    "    If they choose \"left\", a random event occurs. There is a 50% chance that the adventurer will find a potion and a 50% chance that they will \n",
    "    fall into a trap and lose 2 health points. If they find the potion, it is saved into the adventurer's items. \n",
    "    If they fall into a trap, 2 points are taken out of the adventurer's health points.\n",
    "\n",
    "    If they choose \"right\", the \"encounter_ghost()\" function is called to handle the battle between the adventurer and the ghost. \n",
    "    If the adventurer wins, they find a key which is saved into the adventurer's items. If they lose, they lose 2 health points.\n",
    "    Hint: remember to check what encounter_ghost() returned to make know if they won or lost.\n",
    "\n",
    "    If the adventurer chooses something other than \"left\" or \"right\", they are prompted to try again.\n",
    "\n",
    "    If the adventurer's health points reach 0 or less, the message \"Game over, you lost all your health points.\" is printed.\n",
    "\n",
    "    If the adventurer has the key, they can unlock the door and find the Treasure. This message is printed \"You unlocked the door and found the \n",
    "    Treasure! Congratulations!\".\n",
    "    If they don't have the key, they are prompted to find it from the beginning.\n",
    "\n",
    "    \"\"\"\n",
    "     \n",
    "    # your code goes here\n",
    "\n",
    "    import random\n",
    "\n",
    "def encounter_ghost():\n",
    "    \"\"\"\n",
    "    Esta función maneja el encuentro con un fantasma.\n",
    "    El resultado de la batalla se determina por un número aleatorio entre 1 y 10.\n",
    "    Si el número aleatorio es menor o igual a 5, el aventurero derrota al fantasma. \n",
    "    En este caso, imprime \"¡Derrotaste al fantasma!\" y retorna True.\n",
    "    Si el número aleatorio es mayor a 5, el aventurero pierde la batalla. \n",
    "    En este caso, imprime \"Perdiste la batalla...\" y retorna False.\n",
    "    \"\"\"\n",
    "    print(\"¡Te encuentras con un fantasma!\")\n",
    "    \n",
    "    # Generar un número aleatorio entre 1 y 10\n",
    "    ghost_strength = random.randint(1, 10)\n",
    "    \n",
    "    # Determinar el resultado de la batalla\n",
    "    if ghost_strength <= 5:\n",
    "        print(\"¡Derrotaste al fantasma!\")\n",
    "        return True\n",
    "    else:\n",
    "        print(\"Perdiste la batalla...\")\n",
    "        return False\n",
    "\n",
    "def run_mansion():\n",
    "    print(\"¡Bienvenido a la Mansión Embrujada!\")\n",
    "    \n",
    "    health_points = 10\n",
    "    items = []\n",
    "\n",
    "    while health_points > 0:\n",
    "        # Elegir camino\n",
    "        path = input(\"Estás en un cruce. ¿Quieres ir a la 'izquierda' o a la 'derecha'? \").lower()\n",
    "\n",
    "        if path == \"izquierda\":\n",
    "            # Evento aleatorio\n",
    "            event = random.choice([\"potion\", \"trap\"])\n",
    "            if event == \"potion\":\n",
    "                print(\"¡Encontraste una poción!\")\n",
    "                items.append(\"potion\")\n",
    "            else:\n",
    "                print(\"¡Caíste en una trampa y perdiste 2 puntos de salud!\")\n",
    "                health_points -= 2\n",
    "\n",
    "        elif path == \"derecha\":\n",
    "            # Encuentro con fantasma\n",
    "            if encounter_ghost():\n",
    "                print(\"¡Encontraste una llave!\")\n",
    "                items.append(\"key\")\n",
    "            else:\n",
    "                print(\"Perdiste 2 puntos de salud en la batalla con el fantasma.\")\n",
    "                health_points -= 2\n",
    "\n",
    "        else:\n",
    "            print(\"Elección no válida. Intenta nuevamente.\")\n",
    "            continue\n",
    "\n",
    "        # Chequear si la salud llega a 0\n",
    "        if health_points <= 0:\n",
    "            print(\"Game over, perdiste todos tus puntos de salud.\")\n",
    "            break\n",
    "\n",
    "        # Chequear si el aventurero tiene la llave\n",
    "        if \"key\" in items:\n",
    "            print(\"¡Desbloqueaste la puerta y encontraste el Tesoro! ¡Felicidades!\")\n",
    "            break\n",
    "        else:\n",
    "            print(\"Necesitas encontrar la llave para desbloquear la puerta y encontrar el tesoro.\")\n",
    "\n",
    "run_mansion()\n",
    "\n",
    "\n",
    "    "
   ]
  },
  {
   "cell_type": "markdown",
   "id": "9e13a33c-38e5-44b3-bd1b-9a642c962c89",
   "metadata": {},
   "source": [
    "To run the game, simply call the run_mansion() function:"
   ]
  },
  {
   "cell_type": "code",
   "execution_count": 1,
   "id": "f238dc90-0be2-4d8c-93e9-30a1dc8a5b72",
   "metadata": {},
   "outputs": [
    {
     "ename": "NameError",
     "evalue": "name 'run_mansion' is not defined",
     "output_type": "error",
     "traceback": [
      "\u001b[1;31m---------------------------------------------------------------------------\u001b[0m",
      "\u001b[1;31mNameError\u001b[0m                                 Traceback (most recent call last)",
      "Cell \u001b[1;32mIn[1], line 1\u001b[0m\n\u001b[1;32m----> 1\u001b[0m run_mansion()\n",
      "\u001b[1;31mNameError\u001b[0m: name 'run_mansion' is not defined"
     ]
    }
   ],
   "source": [
    "run_mansion()"
   ]
  },
  {
   "cell_type": "markdown",
   "id": "88212f63-3bdb-479f-bf6c-4ecd0685d39a",
   "metadata": {},
   "source": [
    "This should print the game's narrative and prompt the user to make choices and fight ghosts. The game ends when the adventurer finds the key or loses all their health points. "
   ]
  }
 ],
 "metadata": {
  "kernelspec": {
   "display_name": "Python 3 (ipykernel)",
   "language": "python",
   "name": "python3"
  },
  "language_info": {
   "codemirror_mode": {
    "name": "ipython",
    "version": 3
   },
   "file_extension": ".py",
   "mimetype": "text/x-python",
   "name": "python",
   "nbconvert_exporter": "python",
   "pygments_lexer": "ipython3",
   "version": "3.12.4"
  }
 },
 "nbformat": 4,
 "nbformat_minor": 5
}
